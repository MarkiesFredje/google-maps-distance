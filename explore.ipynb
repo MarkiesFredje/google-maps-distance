{
 "cells": [
  {
   "cell_type": "markdown",
   "metadata": {},
   "source": [
    "# Imports"
   ]
  },
  {
   "cell_type": "code",
   "execution_count": 1,
   "metadata": {},
   "outputs": [
    {
     "name": "stderr",
     "output_type": "stream",
     "text": [
      "/home/fred/projects/google-maps-distance/districts.py:27: UserWarning: Geometry is in a geographic CRS. Results from 'distance' are likely incorrect. Use 'GeoSeries.to_crs()' to re-project geometries to a projected CRS before this operation.\n",
      "\n",
      "  gdf_belgium.distance(P_HOME_FRED).sort_values().index[:n_districts], cols\n",
      "/home/fred/projects/google-maps-distance/districts.py:29: UserWarning: Geometry is in a geographic CRS. Results from 'centroid' are likely incorrect. Use 'GeoSeries.to_crs()' to re-project geometries to a projected CRS before this operation.\n",
      "\n",
      "  gdf_home_fred[\"center\"] = gdf_home_fred.centroid\n"
     ]
    }
   ],
   "source": [
    "from joblib import load\n",
    "from geopandas import read_parquet\n",
    "from distance import import_origins_destinations\n",
    "from districts import P_HOME_FRED\n",
    "import matplotlib.pyplot as plt"
   ]
  },
  {
   "cell_type": "markdown",
   "metadata": {},
   "source": [
    "# Exploring near my home\n",
    "\n",
    "Below I make plot of the districts and Colruyt Group shops around my home  \n",
    "If all goes well, my home should be within a district, and on top of a store.  \n",
    "Let's find out ...\n",
    "\n",
    "I find it important to have a look at some samples of the data, as well as data types.  \n",
    "Using appropriate data types allow for easy plotting"
   ]
  },
  {
   "cell_type": "code",
   "execution_count": 2,
   "metadata": {},
   "outputs": [],
   "source": [
    "list_input_files = [\"districts_near_my_home.parquet\", \"shops_near_my_home.parquet\"]\n",
    "gdf_districts, gdf_shops = import_origins_destinations(*list_input_files)"
   ]
  },
  {
   "cell_type": "code",
   "execution_count": 3,
   "metadata": {},
   "outputs": [
    {
     "data": {
      "text/html": [
       "<div>\n",
       "<style scoped>\n",
       "    .dataframe tbody tr th:only-of-type {\n",
       "        vertical-align: middle;\n",
       "    }\n",
       "\n",
       "    .dataframe tbody tr th {\n",
       "        vertical-align: top;\n",
       "    }\n",
       "\n",
       "    .dataframe thead th {\n",
       "        text-align: right;\n",
       "    }\n",
       "</style>\n",
       "<table border=\"1\" class=\"dataframe\">\n",
       "  <thead>\n",
       "    <tr style=\"text-align: right;\">\n",
       "      <th></th>\n",
       "      <th>nis_district</th>\n",
       "      <th>district_name</th>\n",
       "      <th>city_name</th>\n",
       "      <th>geometry</th>\n",
       "      <th>center</th>\n",
       "    </tr>\n",
       "  </thead>\n",
       "  <tbody>\n",
       "    <tr>\n",
       "      <th>2959</th>\n",
       "      <td>23027A052</td>\n",
       "      <td>DE WIP</td>\n",
       "      <td>HALLE</td>\n",
       "      <td>POLYGON Z ((4.23796 50.73221 0.00000, 4.23786 ...</td>\n",
       "      <td>POINT (4.23028 50.72991)</td>\n",
       "    </tr>\n",
       "    <tr>\n",
       "      <th>2955</th>\n",
       "      <td>23027A011</td>\n",
       "      <td>BASCUUL</td>\n",
       "      <td>HALLE</td>\n",
       "      <td>POLYGON Z ((4.23185 50.73995 0.00000, 4.23368 ...</td>\n",
       "      <td>POINT (4.22990 50.73695)</td>\n",
       "    </tr>\n",
       "    <tr>\n",
       "      <th>2954</th>\n",
       "      <td>23027A00-</td>\n",
       "      <td>HALLE-CENTRUM</td>\n",
       "      <td>HALLE</td>\n",
       "      <td>POLYGON Z ((4.24183 50.73649 0.00000, 4.24187 ...</td>\n",
       "      <td>POINT (4.23646 50.73584)</td>\n",
       "    </tr>\n",
       "    <tr>\n",
       "      <th>2961</th>\n",
       "      <td>23027A091</td>\n",
       "      <td>ELBEEK</td>\n",
       "      <td>HALLE</td>\n",
       "      <td>POLYGON Z ((4.22642 50.73960 0.00000, 4.22633 ...</td>\n",
       "      <td>POINT (4.22282 50.73545)</td>\n",
       "    </tr>\n",
       "    <tr>\n",
       "      <th>2970</th>\n",
       "      <td>23027A1PA</td>\n",
       "      <td>OUDE NAAM - RODENEM</td>\n",
       "      <td>HALLE</td>\n",
       "      <td>POLYGON Z ((4.23598 50.72723 0.00000, 4.23573 ...</td>\n",
       "      <td>POINT (4.23708 50.72247)</td>\n",
       "    </tr>\n",
       "  </tbody>\n",
       "</table>\n",
       "</div>"
      ],
      "text/plain": [
       "     nis_district        district_name city_name  \\\n",
       "2959    23027A052               DE WIP     HALLE   \n",
       "2955    23027A011              BASCUUL     HALLE   \n",
       "2954    23027A00-        HALLE-CENTRUM     HALLE   \n",
       "2961    23027A091               ELBEEK     HALLE   \n",
       "2970    23027A1PA  OUDE NAAM - RODENEM     HALLE   \n",
       "\n",
       "                                               geometry  \\\n",
       "2959  POLYGON Z ((4.23796 50.73221 0.00000, 4.23786 ...   \n",
       "2955  POLYGON Z ((4.23185 50.73995 0.00000, 4.23368 ...   \n",
       "2954  POLYGON Z ((4.24183 50.73649 0.00000, 4.24187 ...   \n",
       "2961  POLYGON Z ((4.22642 50.73960 0.00000, 4.22633 ...   \n",
       "2970  POLYGON Z ((4.23598 50.72723 0.00000, 4.23573 ...   \n",
       "\n",
       "                        center  \n",
       "2959  POINT (4.23028 50.72991)  \n",
       "2955  POINT (4.22990 50.73695)  \n",
       "2954  POINT (4.23646 50.73584)  \n",
       "2961  POINT (4.22282 50.73545)  \n",
       "2970  POINT (4.23708 50.72247)  "
      ]
     },
     "execution_count": 3,
     "metadata": {},
     "output_type": "execute_result"
    }
   ],
   "source": [
    "gdf_districts.head()"
   ]
  },
  {
   "cell_type": "code",
   "execution_count": 4,
   "metadata": {},
   "outputs": [
    {
     "name": "stdout",
     "output_type": "stream",
     "text": [
      "<class 'geopandas.geodataframe.GeoDataFrame'>\n",
      "Int64Index: 10 entries, 2959 to 2956\n",
      "Data columns (total 5 columns):\n",
      " #   Column         Non-Null Count  Dtype   \n",
      "---  ------         --------------  -----   \n",
      " 0   nis_district   10 non-null     object  \n",
      " 1   district_name  10 non-null     object  \n",
      " 2   city_name      10 non-null     object  \n",
      " 3   geometry       10 non-null     geometry\n",
      " 4   center         10 non-null     geometry\n",
      "dtypes: geometry(2), object(3)\n",
      "memory usage: 480.0+ bytes\n"
     ]
    }
   ],
   "source": [
    "gdf_districts.info()"
   ]
  },
  {
   "cell_type": "code",
   "execution_count": 5,
   "metadata": {},
   "outputs": [
    {
     "data": {
      "text/html": [
       "<div>\n",
       "<style scoped>\n",
       "    .dataframe tbody tr th:only-of-type {\n",
       "        vertical-align: middle;\n",
       "    }\n",
       "\n",
       "    .dataframe tbody tr th {\n",
       "        vertical-align: top;\n",
       "    }\n",
       "\n",
       "    .dataframe thead th {\n",
       "        text-align: right;\n",
       "    }\n",
       "</style>\n",
       "<table border=\"1\" class=\"dataframe\">\n",
       "  <thead>\n",
       "    <tr style=\"text-align: right;\">\n",
       "      <th></th>\n",
       "      <th>place_id</th>\n",
       "      <th>name</th>\n",
       "      <th>filiaalnr</th>\n",
       "      <th>geometry</th>\n",
       "    </tr>\n",
       "  </thead>\n",
       "  <tbody>\n",
       "    <tr>\n",
       "      <th>292</th>\n",
       "      <td>2508</td>\n",
       "      <td>Dreamland Halle</td>\n",
       "      <td>5220</td>\n",
       "      <td>POINT (4.23249 50.73224)</td>\n",
       "    </tr>\n",
       "    <tr>\n",
       "      <th>285</th>\n",
       "      <td>1811</td>\n",
       "      <td>BIO-PLANET HALLE</td>\n",
       "      <td>5381</td>\n",
       "      <td>POINT (4.23227 50.73175)</td>\n",
       "    </tr>\n",
       "    <tr>\n",
       "      <th>291</th>\n",
       "      <td>2817</td>\n",
       "      <td>Dreambaby Halle</td>\n",
       "      <td>7623</td>\n",
       "      <td>POINT (4.22792 50.73002)</td>\n",
       "    </tr>\n",
       "    <tr>\n",
       "      <th>293</th>\n",
       "      <td>915</td>\n",
       "      <td>SPAR HALLE</td>\n",
       "      <td>4179</td>\n",
       "      <td>POINT (4.24559 50.72626)</td>\n",
       "    </tr>\n",
       "    <tr>\n",
       "      <th>290</th>\n",
       "      <td>2453</td>\n",
       "      <td>DATS 24 LEMBEEK</td>\n",
       "      <td>4027</td>\n",
       "      <td>POINT (4.22421 50.71959)</td>\n",
       "    </tr>\n",
       "  </tbody>\n",
       "</table>\n",
       "</div>"
      ],
      "text/plain": [
       "     place_id              name filiaalnr                  geometry\n",
       "292      2508   Dreamland Halle      5220  POINT (4.23249 50.73224)\n",
       "285      1811  BIO-PLANET HALLE      5381  POINT (4.23227 50.73175)\n",
       "291      2817   Dreambaby Halle      7623  POINT (4.22792 50.73002)\n",
       "293       915        SPAR HALLE      4179  POINT (4.24559 50.72626)\n",
       "290      2453   DATS 24 LEMBEEK      4027  POINT (4.22421 50.71959)"
      ]
     },
     "execution_count": 5,
     "metadata": {},
     "output_type": "execute_result"
    }
   ],
   "source": [
    "gdf_shops.head()"
   ]
  },
  {
   "cell_type": "code",
   "execution_count": 6,
   "metadata": {},
   "outputs": [
    {
     "name": "stdout",
     "output_type": "stream",
     "text": [
      "<class 'geopandas.geodataframe.GeoDataFrame'>\n",
      "Int64Index: 50 entries, 292 to 128\n",
      "Data columns (total 4 columns):\n",
      " #   Column     Non-Null Count  Dtype   \n",
      "---  ------     --------------  -----   \n",
      " 0   place_id   50 non-null     int64   \n",
      " 1   name       50 non-null     object  \n",
      " 2   filiaalnr  50 non-null     object  \n",
      " 3   geometry   50 non-null     geometry\n",
      "dtypes: geometry(1), int64(1), object(2)\n",
      "memory usage: 2.0+ KB\n"
     ]
    }
   ],
   "source": [
    "gdf_shops.info()"
   ]
  },
  {
   "cell_type": "code",
   "execution_count": 7,
   "metadata": {},
   "outputs": [
    {
     "data": {
      "image/png": "[encoded data removed]",
      "text/plain": [
       "<Figure size 1152x720 with 1 Axes>"
      ]
     },
     "metadata": {
      "needs_background": "light"
     },
     "output_type": "display_data"
    }
   ],
   "source": [
    "fig, ax = plt.subplots(figsize=(16, 10))\n",
    "# prepare bacbground with the districts\n",
    "ax_near_home = gdf_districts.plot(ax=ax, color=\"white\", edgecolor=\"black\")\n",
    "# Add a yellow transparant star to my home\n",
    "ax_near_home.plot(\n",
    "    P_HOME_FRED.x, P_HOME_FRED.y, marker=\"*\", markersize=10, color=\"yellow\", alpha=0.3\n",
    ")\n",
    "# Gray home district_near_home\n",
    "gdf_districts.head(1).plot(ax=ax_near_home, color=\"gray\")\n",
    "# Red dot centroids\n",
    "gdf_districts[\"center\"].plot(ax=ax_near_home, marker=\"o\", color=\"red\", markersize=10)\n",
    "# closest 10 shops near my home\n",
    "gdf_shops.head(10).plot(ax=ax_near_home, marker=\"o\", color=\"green\", markersize=20)\n",
    "plt.show()"
   ]
  },
  {
   "cell_type": "markdown",
   "metadata": {},
   "source": [
    "# Exploring API json results\n",
    "\n",
    "## Google distance matrix api results\n",
    "\n",
    "Let's explore the JSON respons from the distance_matrix api call.  \n",
    "Use the [offical docs](https://developers.google.com/maps/documentation/distance-matrix/distance-matrix) for more details\n",
    "\n",
    "* `origin_addresses` and `destination_addresses` the address corresponding to the request we made.\n",
    "* 10 `rows` corresponding with our origins\n",
    "  * each has 10 `elements` corresponding with our destination"
   ]
  },
  {
   "cell_type": "code",
   "execution_count": 8,
   "metadata": {},
   "outputs": [
    {
     "data": {
      "text/plain": [
       "dict_keys(['destination_addresses', 'origin_addresses', 'rows', 'status'])"
      ]
     },
     "execution_count": 8,
     "metadata": {},
     "output_type": "execute_result"
    }
   ],
   "source": [
    "drive_times_google = load(\"google_drive_times.pickle\")\n",
    "drive_times_google.keys()"
   ]
  },
  {
   "cell_type": "code",
   "execution_count": 9,
   "metadata": {},
   "outputs": [
    {
     "data": {
      "text/plain": [
       "['Chau. de Mons 127, 1500 Hal, Belgium',\n",
       " 'Tramstraat 2, 1500 Halle, Belgium',\n",
       " 'Maandagmarkt 11, 1500 Halle, Belgium',\n",
       " 'Grote Weide 6, 1500 Halle, Belgium',\n",
       " 'Biezeweide 207-207, 1500 Halle, Belgium',\n",
       " 'Sint-Rochusstraat 81, 1500 Halle, Belgium',\n",
       " 'Chau. de Mons 413, 1500 Hal, Belgium',\n",
       " 'Brusselsesteenweg 328, 1500 Halle, Belgium',\n",
       " 'Heuvelpark 31, 1500 Halle, Belgium',\n",
       " 'Gaasbeeksesteenweg 6, 1500 Halle, Belgium']"
      ]
     },
     "execution_count": 9,
     "metadata": {},
     "output_type": "execute_result"
    }
   ],
   "source": [
    "drive_times_google[\"origin_addresses\"]"
   ]
  },
  {
   "cell_type": "code",
   "execution_count": 10,
   "metadata": {},
   "outputs": [
    {
     "data": {
      "text/plain": [
       "['Chau. de Mons 83, 1500 Hal, Belgium',\n",
       " 'Groebegrachtstraat 16, 1500 Halle, Belgium',\n",
       " 'Edingensesteenweg 75, 1500 Halle, Belgium',\n",
       " 'Nijvelsesteenweg 141, 1500 Halle, Belgium',\n",
       " 'Chau. de Mons 505, 1500 Hal, Belgium',\n",
       " 'Edingensesteenweg 300, 1500 Halle, Belgium',\n",
       " 'Edingensesteenweg 300, 1500 Halle, Belgium',\n",
       " 'Zinkstraat 1, 1500 Halle, Belgium',\n",
       " 'Alsembergsesteenweg 43, 1600 Sint-Pieters-Leeuw, Belgium',\n",
       " 'Guido Gezellestraat 68, 1654 Beersel, Belgium']"
      ]
     },
     "execution_count": 10,
     "metadata": {},
     "output_type": "execute_result"
    }
   ],
   "source": [
    "drive_times_google[\"destination_addresses\"]"
   ]
  },
  {
   "cell_type": "code",
   "execution_count": 11,
   "metadata": {},
   "outputs": [
    {
     "data": {
      "text/plain": [
       "(10, 10)"
      ]
     },
     "execution_count": 11,
     "metadata": {},
     "output_type": "execute_result"
    }
   ],
   "source": [
    "len(drive_times_google[\"rows\"]), len(drive_times_google[\"rows\"][0][\"elements\"])"
   ]
  },
  {
   "cell_type": "code",
   "execution_count": 12,
   "metadata": {},
   "outputs": [
    {
     "data": {
      "text/plain": [
       "{'distance': {'text': '3.7 km', 'value': 3729},\n",
       " 'duration': {'text': '8 mins', 'value': 490},\n",
       " 'status': 'OK'}"
      ]
     },
     "execution_count": 12,
     "metadata": {},
     "output_type": "execute_result"
    }
   ],
   "source": [
    "# show the distance and duration for 1st origin / last destination\n",
    "drive_times_google[\"rows\"][0][\"elements\"][-1]"
   ]
  },
  {
   "cell_type": "markdown",
   "metadata": {},
   "source": [
    "## openrouteservice distance matrix api results\n",
    "\n",
    "Let's explore the JSON respons from the distance_matrix api call.  \n",
    "Use the [offical docs](https://openrouteservice.org/dev/#/api-docs/v2/matrix/{profile}/post) for more details.  \n",
    "\n",
    "* 10 * 10 matrix `durations` and `distances` corresponding with our origins * destinations\n",
    "* `destinations` containing snapping and streetname info for destinations\n",
    "* `sources` containing snapping and streetname info for origins\n",
    "* `metadata` we're currently not looking into"
   ]
  },
  {
   "cell_type": "code",
   "execution_count": 13,
   "metadata": {},
   "outputs": [
    {
     "data": {
      "text/plain": [
       "dict_keys(['durations', 'distances', 'destinations', 'sources', 'metadata'])"
      ]
     },
     "execution_count": 13,
     "metadata": {},
     "output_type": "execute_result"
    }
   ],
   "source": [
    "drive_times_ors = load(\"openrouteservice_drive_times.pickle\")\n",
    "drive_times_ors.keys()"
   ]
  },
  {
   "cell_type": "code",
   "execution_count": 14,
   "metadata": {},
   "outputs": [
    {
     "data": {
      "text/plain": [
       "(10, 10)"
      ]
     },
     "execution_count": 14,
     "metadata": {},
     "output_type": "execute_result"
    }
   ],
   "source": [
    "len(drive_times_ors[\"durations\"]), len(drive_times_ors[\"durations\"][-1])"
   ]
  },
  {
   "cell_type": "code",
   "execution_count": 15,
   "metadata": {},
   "outputs": [
    {
     "data": {
      "text/plain": [
       "[288.25, 303.98, 283.97]"
      ]
     },
     "execution_count": 15,
     "metadata": {},
     "output_type": "execute_result"
    }
   ],
   "source": [
    "# just an array with durations\n",
    "drive_times_ors[\"durations\"][-1][:3]"
   ]
  },
  {
   "cell_type": "code",
   "execution_count": 16,
   "metadata": {},
   "outputs": [
    {
     "data": {
      "text/plain": [
       "(10, 10)"
      ]
     },
     "execution_count": 16,
     "metadata": {},
     "output_type": "execute_result"
    }
   ],
   "source": [
    "len(drive_times_ors[\"distances\"]), len(drive_times_ors[\"distances\"][-1])"
   ]
  },
  {
   "cell_type": "code",
   "execution_count": 17,
   "metadata": {},
   "outputs": [
    {
     "data": {
      "text/plain": [
       "{'location': [4.232767, 50.732144],\n",
       " 'name': 'Groebegrachtstraat',\n",
       " 'snapped_distance': 22.51}"
      ]
     },
     "execution_count": 17,
     "metadata": {},
     "output_type": "execute_result"
    }
   ],
   "source": [
    "drive_times_ors[\"destinations\"][0]"
   ]
  },
  {
   "cell_type": "markdown",
   "metadata": {},
   "source": [
    "# Exploring traveltime\n",
    "\n",
    "Traveltime contains 1 record per (orgin, destination) ==> 10 * 10 = 100 rows.  \n",
    "\n",
    "Important columns to note:\n",
    "\n",
    "* `o_centroid_lng_lat`, `d_centroid_lng_lat` contain the points for origin and destination\n",
    "* `nis_district`, `filiaalnr` are a functional represenation of origin and destination\n",
    "* `district_name`, `shop_name` are a functional human readable representation of origin and destination\n",
    "* `g_distance_m` and `ors_distance_m` contain the distance (g for google, ors for openstreetservice)\n",
    "* `g_traveltime_s` and `ors_traveltime_s` contain the duration (g for google, ors for openstreetservice)"
   ]
  },
  {
   "cell_type": "code",
   "execution_count": 18,
   "metadata": {},
   "outputs": [
    {
     "data": {
      "text/plain": [
       "100"
      ]
     },
     "execution_count": 18,
     "metadata": {},
     "output_type": "execute_result"
    }
   ],
   "source": [
    "gdf_traveltime = load(\"traveltime_shops_near_home.pickle\")\n",
    "gdf_traveltime.shape[0]"
   ]
  },
  {
   "cell_type": "code",
   "execution_count": 19,
   "metadata": {},
   "outputs": [
    {
     "data": {
      "text/html": [
       "<div>\n",
       "<style scoped>\n",
       "    .dataframe tbody tr th:only-of-type {\n",
       "        vertical-align: middle;\n",
       "    }\n",
       "\n",
       "    .dataframe tbody tr th {\n",
       "        vertical-align: top;\n",
       "    }\n",
       "\n",
       "    .dataframe thead th {\n",
       "        text-align: right;\n",
       "    }\n",
       "</style>\n",
       "<table border=\"1\" class=\"dataframe\">\n",
       "  <thead>\n",
       "    <tr style=\"text-align: right;\">\n",
       "      <th></th>\n",
       "      <th>nis_district</th>\n",
       "      <th>district_name</th>\n",
       "      <th>city_name</th>\n",
       "      <th>nis_geometry</th>\n",
       "      <th>o_centroid_lng_lat</th>\n",
       "      <th>o_g_address</th>\n",
       "      <th>place_id</th>\n",
       "      <th>shop_name</th>\n",
       "      <th>filiaalnr</th>\n",
       "      <th>d_centroid_lng_lat</th>\n",
       "      <th>d_g_address</th>\n",
       "      <th>g_distance_m</th>\n",
       "      <th>g_traveltime_s</th>\n",
       "      <th>g_status</th>\n",
       "      <th>ors_distance_m</th>\n",
       "      <th>ors_traveltime_s</th>\n",
       "    </tr>\n",
       "  </thead>\n",
       "  <tbody>\n",
       "    <tr>\n",
       "      <th>0</th>\n",
       "      <td>23027A052</td>\n",
       "      <td>DE WIP</td>\n",
       "      <td>HALLE</td>\n",
       "      <td>POLYGON Z ((4.23796 50.73221 0.00000, 4.23786 ...</td>\n",
       "      <td>POINT (4.23028 50.72991)</td>\n",
       "      <td>Chau. de Mons 127, 1500 Hal, Belgium</td>\n",
       "      <td>2508</td>\n",
       "      <td>Dreamland Halle</td>\n",
       "      <td>5220</td>\n",
       "      <td>POINT (4.23249 50.73224)</td>\n",
       "      <td>Chau. de Mons 83, 1500 Hal, Belgium</td>\n",
       "      <td>434</td>\n",
       "      <td>91</td>\n",
       "      <td>OK</td>\n",
       "      <td>431.06</td>\n",
       "      <td>104.28</td>\n",
       "    </tr>\n",
       "    <tr>\n",
       "      <th>1</th>\n",
       "      <td>23027A052</td>\n",
       "      <td>DE WIP</td>\n",
       "      <td>HALLE</td>\n",
       "      <td>POLYGON Z ((4.23796 50.73221 0.00000, 4.23786 ...</td>\n",
       "      <td>POINT (4.23028 50.72991)</td>\n",
       "      <td>Chau. de Mons 127, 1500 Hal, Belgium</td>\n",
       "      <td>1811</td>\n",
       "      <td>BIO-PLANET HALLE</td>\n",
       "      <td>5381</td>\n",
       "      <td>POINT (4.23227 50.73175)</td>\n",
       "      <td>Groebegrachtstraat 16, 1500 Halle, Belgium</td>\n",
       "      <td>486</td>\n",
       "      <td>106</td>\n",
       "      <td>OK</td>\n",
       "      <td>380.50</td>\n",
       "      <td>92.14</td>\n",
       "    </tr>\n",
       "    <tr>\n",
       "      <th>2</th>\n",
       "      <td>23027A052</td>\n",
       "      <td>DE WIP</td>\n",
       "      <td>HALLE</td>\n",
       "      <td>POLYGON Z ((4.23796 50.73221 0.00000, 4.23786 ...</td>\n",
       "      <td>POINT (4.23028 50.72991)</td>\n",
       "      <td>Chau. de Mons 127, 1500 Hal, Belgium</td>\n",
       "      <td>2817</td>\n",
       "      <td>Dreambaby Halle</td>\n",
       "      <td>7623</td>\n",
       "      <td>POINT (4.22792 50.73002)</td>\n",
       "      <td>Edingensesteenweg 75, 1500 Halle, Belgium</td>\n",
       "      <td>418</td>\n",
       "      <td>60</td>\n",
       "      <td>OK</td>\n",
       "      <td>468.92</td>\n",
       "      <td>96.84</td>\n",
       "    </tr>\n",
       "    <tr>\n",
       "      <th>3</th>\n",
       "      <td>23027A052</td>\n",
       "      <td>DE WIP</td>\n",
       "      <td>HALLE</td>\n",
       "      <td>POLYGON Z ((4.23796 50.73221 0.00000, 4.23786 ...</td>\n",
       "      <td>POINT (4.23028 50.72991)</td>\n",
       "      <td>Chau. de Mons 127, 1500 Hal, Belgium</td>\n",
       "      <td>915</td>\n",
       "      <td>SPAR HALLE</td>\n",
       "      <td>4179</td>\n",
       "      <td>POINT (4.24559 50.72626)</td>\n",
       "      <td>Nijvelsesteenweg 141, 1500 Halle, Belgium</td>\n",
       "      <td>1611</td>\n",
       "      <td>209</td>\n",
       "      <td>OK</td>\n",
       "      <td>1609.68</td>\n",
       "      <td>263.75</td>\n",
       "    </tr>\n",
       "    <tr>\n",
       "      <th>4</th>\n",
       "      <td>23027A052</td>\n",
       "      <td>DE WIP</td>\n",
       "      <td>HALLE</td>\n",
       "      <td>POLYGON Z ((4.23796 50.73221 0.00000, 4.23786 ...</td>\n",
       "      <td>POINT (4.23028 50.72991)</td>\n",
       "      <td>Chau. de Mons 127, 1500 Hal, Belgium</td>\n",
       "      <td>2453</td>\n",
       "      <td>DATS 24 LEMBEEK</td>\n",
       "      <td>4027</td>\n",
       "      <td>POINT (4.22421 50.71959)</td>\n",
       "      <td>Chau. de Mons 505, 1500 Hal, Belgium</td>\n",
       "      <td>1280</td>\n",
       "      <td>131</td>\n",
       "      <td>OK</td>\n",
       "      <td>1277.58</td>\n",
       "      <td>129.88</td>\n",
       "    </tr>\n",
       "  </tbody>\n",
       "</table>\n",
       "</div>"
      ],
      "text/plain": [
       "  nis_district district_name city_name  \\\n",
       "0    23027A052        DE WIP     HALLE   \n",
       "1    23027A052        DE WIP     HALLE   \n",
       "2    23027A052        DE WIP     HALLE   \n",
       "3    23027A052        DE WIP     HALLE   \n",
       "4    23027A052        DE WIP     HALLE   \n",
       "\n",
       "                                        nis_geometry  \\\n",
       "0  POLYGON Z ((4.23796 50.73221 0.00000, 4.23786 ...   \n",
       "1  POLYGON Z ((4.23796 50.73221 0.00000, 4.23786 ...   \n",
       "2  POLYGON Z ((4.23796 50.73221 0.00000, 4.23786 ...   \n",
       "3  POLYGON Z ((4.23796 50.73221 0.00000, 4.23786 ...   \n",
       "4  POLYGON Z ((4.23796 50.73221 0.00000, 4.23786 ...   \n",
       "\n",
       "         o_centroid_lng_lat                           o_g_address  place_id  \\\n",
       "0  POINT (4.23028 50.72991)  Chau. de Mons 127, 1500 Hal, Belgium      2508   \n",
       "1  POINT (4.23028 50.72991)  Chau. de Mons 127, 1500 Hal, Belgium      1811   \n",
       "2  POINT (4.23028 50.72991)  Chau. de Mons 127, 1500 Hal, Belgium      2817   \n",
       "3  POINT (4.23028 50.72991)  Chau. de Mons 127, 1500 Hal, Belgium       915   \n",
       "4  POINT (4.23028 50.72991)  Chau. de Mons 127, 1500 Hal, Belgium      2453   \n",
       "\n",
       "          shop_name filiaalnr        d_centroid_lng_lat  \\\n",
       "0   Dreamland Halle      5220  POINT (4.23249 50.73224)   \n",
       "1  BIO-PLANET HALLE      5381  POINT (4.23227 50.73175)   \n",
       "2   Dreambaby Halle      7623  POINT (4.22792 50.73002)   \n",
       "3        SPAR HALLE      4179  POINT (4.24559 50.72626)   \n",
       "4   DATS 24 LEMBEEK      4027  POINT (4.22421 50.71959)   \n",
       "\n",
       "                                  d_g_address  g_distance_m  g_traveltime_s  \\\n",
       "0         Chau. de Mons 83, 1500 Hal, Belgium           434              91   \n",
       "1  Groebegrachtstraat 16, 1500 Halle, Belgium           486             106   \n",
       "2   Edingensesteenweg 75, 1500 Halle, Belgium           418              60   \n",
       "3   Nijvelsesteenweg 141, 1500 Halle, Belgium          1611             209   \n",
       "4        Chau. de Mons 505, 1500 Hal, Belgium          1280             131   \n",
       "\n",
       "  g_status  ors_distance_m  ors_traveltime_s  \n",
       "0       OK          431.06            104.28  \n",
       "1       OK          380.50             92.14  \n",
       "2       OK          468.92             96.84  \n",
       "3       OK         1609.68            263.75  \n",
       "4       OK         1277.58            129.88  "
      ]
     },
     "execution_count": 19,
     "metadata": {},
     "output_type": "execute_result"
    }
   ],
   "source": [
    "gdf_traveltime.head()"
   ]
  },
  {
   "cell_type": "code",
   "execution_count": 20,
   "metadata": {},
   "outputs": [],
   "source": [
    "cols_deviation = [\n",
    "    \"nis_district\",\n",
    "    \"filiaalnr\",\n",
    "    \"g_distance_m\",\n",
    "    \"g_traveltime_s\",\n",
    "    \"ors_distance_m\",\n",
    "    \"ors_traveltime_s\",\n",
    "]\n",
    "df_traveltime_deviation = gdf_traveltime[cols_deviation].copy()\n",
    "df_traveltime_deviation[\"delta_g_ors_s\"] = (\n",
    "    df_traveltime_deviation[\"g_traveltime_s\"]\n",
    "    - df_traveltime_deviation[\"ors_traveltime_s\"]\n",
    ")\n",
    "df_traveltime_deviation[\"delta_g_ors_m\"] = (\n",
    "    df_traveltime_deviation[\"g_distance_m\"] - df_traveltime_deviation[\"ors_distance_m\"]\n",
    ")\n",
    "df_traveltime_deviation[\"delta_g_ors_s_pct\"] = (\n",
    "    df_traveltime_deviation[\"g_traveltime_s\"]\n",
    "    - df_traveltime_deviation[\"ors_traveltime_s\"]\n",
    ") / df_traveltime_deviation[\"g_traveltime_s\"]\n",
    "df_traveltime_deviation[\"delta_g_ors_m_pct\"] = (\n",
    "    df_traveltime_deviation[\"g_distance_m\"] - df_traveltime_deviation[\"ors_distance_m\"]\n",
    ") / df_traveltime_deviation[\"g_distance_m\"]"
   ]
  },
  {
   "cell_type": "code",
   "execution_count": 21,
   "metadata": {},
   "outputs": [
    {
     "data": {
      "text/plain": [
       "<AxesSubplot:>"
      ]
     },
     "execution_count": 21,
     "metadata": {},
     "output_type": "execute_result"
    },
    {
     "data": {
      "image/png": "[encoded data removed]",
      "text/plain": [
       "<Figure size 432x288 with 1 Axes>"
      ]
     },
     "metadata": {
      "needs_background": "light"
     },
     "output_type": "display_data"
    }
   ],
   "source": [
    "df_traveltime_deviation[\"delta_g_ors_s\"].plot(kind=\"box\")"
   ]
  },
  {
   "cell_type": "code",
   "execution_count": 22,
   "metadata": {},
   "outputs": [
    {
     "data": {
      "text/plain": [
       "<AxesSubplot:ylabel='Frequency'>"
      ]
     },
     "execution_count": 22,
     "metadata": {},
     "output_type": "execute_result"
    },
    {
     "data": {
      "image/png": "[encoded data removed]",
      "text/plain": [
       "<Figure size 432x288 with 1 Axes>"
      ]
     },
     "metadata": {
      "needs_background": "light"
     },
     "output_type": "display_data"
    }
   ],
   "source": [
    "df_traveltime_deviation[\"delta_g_ors_s_pct\"].plot(kind=\"hist\", bins=20)"
   ]
  },
  {
   "cell_type": "code",
   "execution_count": 23,
   "metadata": {},
   "outputs": [
    {
     "data": {
      "text/plain": [
       "<AxesSubplot:>"
      ]
     },
     "execution_count": 23,
     "metadata": {},
     "output_type": "execute_result"
    },
    {
     "data": {
      "image/png": "[encoded data removed]",
      "text/plain": [
       "<Figure size 432x288 with 1 Axes>"
      ]
     },
     "metadata": {
      "needs_background": "light"
     },
     "output_type": "display_data"
    }
   ],
   "source": [
    "df_traveltime_deviation[\"delta_g_ors_m\"].plot(kind=\"box\")"
   ]
  },
  {
   "cell_type": "code",
   "execution_count": 24,
   "metadata": {},
   "outputs": [
    {
     "data": {
      "text/plain": [
       "<AxesSubplot:ylabel='Frequency'>"
      ]
     },
     "execution_count": 24,
     "metadata": {},
     "output_type": "execute_result"
    },
    {
     "data": {
      "image/png": "[encoded data removed]",
      "text/plain": [
       "<Figure size 432x288 with 1 Axes>"
      ]
     },
     "metadata": {
      "needs_background": "light"
     },
     "output_type": "display_data"
    }
   ],
   "source": [
    "df_traveltime_deviation[\"delta_g_ors_m_pct\"].plot(kind=\"hist\", bins=20)"
   ]
  },
  {
   "cell_type": "code",
   "execution_count": null,
   "metadata": {},
   "outputs": [],
   "source": []
  }
 ],
 "metadata": {
  "kernelspec": {
   "display_name": "Python 3.10.5 ('google-maps-distance')",
   "language": "python",
   "name": "python3"
  },
  "language_info": {
   "codemirror_mode": {
    "name": "ipython",
    "version": 3
   },
   "file_extension": ".py",
   "mimetype": "text/x-python",
   "name": "python",
   "nbconvert_exporter": "python",
   "pygments_lexer": "ipython3",
   "version": "3.10.5"
  },
  "orig_nbformat": 4,
  "vscode": {
   "interpreter": {
    "hash": "dfdebab6dcc175cd316cd3cf94ac84d6fce62a52ad1aa100828fd921315837bc"
   }
  }
 },
 "nbformat": 4,
 "nbformat_minor": 2
}
